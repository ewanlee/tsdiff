{
 "cells": [
  {
   "cell_type": "code",
   "execution_count": 294,
   "id": "7b2cd2e9",
   "metadata": {},
   "outputs": [],
   "source": [
    "from tsdiff.models.epsnet.dualenc_dimepp_newedge_nolocal import DualEncoderEpsNetwork\n",
    "import yaml\n",
    "from easydict import EasyDict\n",
    "import torch\n",
    "import pickle\n",
    "import tqdm\n",
    "import itertools\n",
    "import numpy as np\n",
    "import matplotlib.pyplot as plt"
   ]
  },
  {
   "cell_type": "code",
   "execution_count": 5,
   "id": "ec683090",
   "metadata": {},
   "outputs": [],
   "source": [
    "with open(\"/home/ksh/MolDiff/tsdiff/configs/job_coff10.0_edge3_ReLU_128_5.yml\",\"r\") as f:\n",
    "    config = EasyDict(yaml.safe_load(f))\n",
    "model = DualEncoderEpsNetwork(config.model)"
   ]
  },
  {
   "cell_type": "code",
   "execution_count": 40,
   "id": "d7f68ef2",
   "metadata": {},
   "outputs": [],
   "source": [
    "with open(\"data/TS/b97d3/raw_data/b97d3_reactants.txt\", \"r\") as f:\n",
    "    r_xyz = f.readlines()\n",
    "with open(\"data/TS/b97d3/raw_data/b97d3_products.txt\", \"r\") as f:\n",
    "    p_xyz = f.readlines()\n",
    "    \n",
    "r_xyz = \"\".join(r_xyz).split(\"$$$$$\")[:-1]\n",
    "for i, xyz in enumerate(r_xyz):\n",
    "    xyz = torch.Tensor([[float(u) for u in l.split(\"\\t\")[1:]] for l in xyz.strip().split(\"\\n\")[2:]])\n",
    "    r_xyz[i] = xyz\n",
    "    \n",
    "p_xyz = \"\".join(p_xyz).split(\"$$$$$\")[:-1]\n",
    "for i, xyz in enumerate(p_xyz):\n",
    "    xyz = torch.Tensor([[float(u) for u in l.split(\"\\t\")[1:]] for l in xyz.strip().split(\"\\n\")[2:]])\n",
    "    p_xyz[i] = xyz\n",
    "    \n"
   ]
  },
  {
   "cell_type": "code",
   "execution_count": 41,
   "id": "e56ffe7b",
   "metadata": {},
   "outputs": [],
   "source": [
    "with open(\"data/TS/b97d3/random_split3/index_list.pkl\",\"rb\") as f:\n",
    "    idx_list = pickle.load(f)\n",
    "with open(\"data/TS/b97d3/random_split3/train_data.pkl\",\"rb\") as f:\n",
    "    train = pickle.load(f)\n",
    "with open(\"data/TS/b97d3/random_split3/val_data.pkl\",\"rb\") as f:\n",
    "    val = pickle.load(f)\n",
    "with open(\"data/TS/b97d3/random_split3/test_data.pkl\",\"rb\") as f:\n",
    "    test = pickle.load(f)"
   ]
  },
  {
   "cell_type": "code",
   "execution_count": 42,
   "id": "b0350afc",
   "metadata": {},
   "outputs": [],
   "source": [
    "idx = idx_list[\"train_index\"]\n",
    "r_xyz = [r_xyz[i] for i in idx] + [r_xyz[i] for i in idx_list[\"valid_index\"]] + [r_xyz[i] for i in idx_list[\"test_index\"]]\n",
    "p_xyz = [p_xyz[i] for i in idx] + [p_xyz[i] for i in idx_list[\"valid_index\"]] + [p_xyz[i] for i in idx_list[\"test_index\"]]\n",
    "data = train + val + test\n",
    "for d, r, p in zip(data, r_xyz, p_xyz):\n",
    "    d.r_pos = r\n",
    "    d.p_pos = p"
   ]
  },
  {
   "cell_type": "code",
   "execution_count": 51,
   "id": "e39bdb9d",
   "metadata": {},
   "outputs": [
    {
     "name": "stdout",
     "output_type": "stream",
     "text": [
      "Data(atom_type=[9], edge_index=[2, 22], edge_type=[22], p_feat=[9, 25], p_pos=[9, 3], pos=[9, 3], r_feat=[9, 25], r_pos=[9, 3], rdmol=[2], smiles=\"[C:1]([c:2]1[n:3][o:4][n:5][n:6]1)([H:7])([H:8])[H:9]>>[C:1]1([H:7])([H:8])/[C:2](=[N:3]\\[H:9])[N:6]1[N:5]=[O:4]\")\n"
     ]
    }
   ],
   "source": [
    "d = data[0]\n",
    "print(d)\n",
    "N = len(d.atom_type)\n",
    "pos = d.pos\n",
    "bond_index = d.edge_index\n",
    "bond_type = d.edge_type\n",
    "batch = torch.Tensor([0]*N).to(torch.long)\n",
    "\n",
    "edge_idx, _, type_r, type_p = model._extend_condensed_graph_edge(N, pos, bond_index, bond_type, batch, edge_order=3, cutoff=0.1)"
   ]
  },
  {
   "cell_type": "code",
   "execution_count": 130,
   "id": "c3ac93bd",
   "metadata": {},
   "outputs": [
    {
     "name": "stderr",
     "output_type": "stream",
     "text": [
      "100%|██████████| 32680/32680 [06:18<00:00, 86.28it/s] \n"
     ]
    }
   ],
   "source": [
    "\n",
    "d_dict_r_ts = dict([(x, []) for x in list(itertools.product(range(25), range(25)))])\n",
    "d_dict_p_ts = dict([(x, []) for x in list(itertools.product(range(25), range(25)))])\n",
    "d_dict_mid_ts = dict([(x, []) for x in list(itertools.product(range(25), range(25)))])\n",
    "\n",
    "for d in tqdm.tqdm(data):\n",
    "    # get edge index and edge type\n",
    "    N = len(d.atom_type)\n",
    "    pos = d.pos\n",
    "    bond_index = d.edge_index\n",
    "    bond_type = d.edge_type\n",
    "    batch = torch.Tensor([0]*N).to(torch.long)\n",
    "    edge_idx, _, type_r, type_p = model._extend_condensed_graph_edge(N, pos, bond_index, bond_type, batch, edge_order=3, cutoff=0.1)\n",
    "    \n",
    "    # distance of each edge in r,p,ts geometry\n",
    "    ts_dm = torch.cdist(d.pos, d.pos)\n",
    "    r_dm = torch.cdist(d.r_pos, d.r_pos)\n",
    "    p_dm = torch.cdist(d.p_pos, d.p_pos)\n",
    "    r_d = []\n",
    "    p_d = []\n",
    "    ts_d = []\n",
    "    for i in range(edge_idx.shape[1]):\n",
    "        r_d.append(r_dm[edge_idx[0][i]][edge_idx[1][i]])\n",
    "        p_d.append(p_dm[edge_idx[0][i]][edge_idx[1][i]])\n",
    "        ts_d.append(ts_dm[edge_idx[0][i]][edge_idx[1][i]])\n",
    "    r_d = torch.Tensor(r_d)\n",
    "    p_d = torch.Tensor(p_d)\n",
    "    ts_d = torch.Tensor(ts_d)\n",
    "    \n",
    "    # append distance error of r geometry for each edge type\n",
    "    for er, ep, emid, r, p in zip(r_d - ts_d, p_d - ts_d, 0.5*r_d + 0.5*p_d - ts_d, type_r, type_p):\n",
    "        x = d_dict_r_ts[(r.item(), p.item())]\n",
    "        x.append(er)\n",
    "        \n",
    "        x = d_dict_p_ts[(r.item(), p.item())]\n",
    "        x.append(ep)\n",
    "        \n",
    "        x = d_dict_mid_ts[(r.item(), p.item())]\n",
    "        x.append(emid)"
   ]
  },
  {
   "cell_type": "code",
   "execution_count": 257,
   "id": "fd429f4c",
   "metadata": {},
   "outputs": [
    {
     "name": "stderr",
     "output_type": "stream",
     "text": [
      "/home/ksh/.conda/envs/tsdiff/lib/python3.7/site-packages/ipykernel_launcher.py:9: RuntimeWarning: Mean of empty slice.\n",
      "  if __name__ == '__main__':\n"
     ]
    },
    {
     "data": {
      "text/plain": [
       "<matplotlib.image.AxesImage at 0x7f2045acedd0>"
      ]
     },
     "execution_count": 257,
     "metadata": {},
     "output_type": "execute_result"
    },
    {
     "data": {
      "image/png": "[encoded data removed]",
      "text/plain": [
       "<Figure size 432x288 with 1 Axes>"
      ]
     },
     "metadata": {
      "needs_background": "light"
     },
     "output_type": "display_data"
    }
   ],
   "source": [
    "converter = np.arange(25)\n",
    "converter[12] = 4\n",
    "converter[23] = 5\n",
    "converter[24] = 6\n",
    "nonzero_idx = np.array([ 0,  1,  2,  3, 12, 23, 24])\n",
    "X = np.zeros((7,7))\n",
    "for k, v in d_dict_r_ts.items():\n",
    "    if k[0] in nonzero_idx and k[1] in nonzero_idx:\n",
    "        X[converter[k[0]], converter[k[1]]] = np.abs(np.array(v)).mean()\n",
    "\n",
    "converter = np.arange(25)\n",
    "converter[12] = 4\n",
    "converter[23] = 5\n",
    "converter[24] = 6\n",
    "nonzero_idx = np.array([ 0,  1,  2,  3, 12, 23, 24])\n",
    "rX = np.zeros((7,7))\n",
    "for k, v in d_dict_r_ts.items():\n",
    "    if k[0] in nonzero_idx and k[1] in nonzero_idx:\n",
    "        rX[converter[k[0]], converter[k[1]]] = len(v)\n",
    "rX = rX / rX.sum()\n",
    "#plt.imshow(rX)\n",
    "#plt.imshow(X)\n",
    "plt.imshow(X*rX)"
   ]
  },
  {
   "cell_type": "code",
   "execution_count": 258,
   "id": "9c3f4cca",
   "metadata": {},
   "outputs": [
    {
     "name": "stderr",
     "output_type": "stream",
     "text": [
      "/home/ksh/.conda/envs/tsdiff/lib/python3.7/site-packages/ipykernel_launcher.py:9: RuntimeWarning: Mean of empty slice.\n",
      "  if __name__ == '__main__':\n"
     ]
    },
    {
     "data": {
      "text/plain": [
       "<matplotlib.image.AxesImage at 0x7f2045a487d0>"
      ]
     },
     "execution_count": 258,
     "metadata": {},
     "output_type": "execute_result"
    },
    {
     "data": {
      "image/png": "[encoded data removed]",
      "text/plain": [
       "<Figure size 432x288 with 1 Axes>"
      ]
     },
     "metadata": {
      "needs_background": "light"
     },
     "output_type": "display_data"
    }
   ],
   "source": [
    "converter = np.arange(25)\n",
    "converter[12] = 4\n",
    "converter[23] = 5\n",
    "converter[24] = 6\n",
    "nonzero_idx = np.array([ 0,  1,  2,  3, 12, 23, 24])\n",
    "X = np.zeros((7,7))\n",
    "for k, v in d_dict_mid_ts.items():\n",
    "    if k[0] in nonzero_idx and k[1] in nonzero_idx:\n",
    "        X[converter[k[0]], converter[k[1]]] = np.abs(np.array(v)).mean()\n",
    "\n",
    "converter = np.arange(25)\n",
    "converter[12] = 4\n",
    "converter[23] = 5\n",
    "converter[24] = 6\n",
    "nonzero_idx = np.array([ 0,  1,  2,  3, 12, 23, 24])\n",
    "rX = np.zeros((7,7))\n",
    "for k, v in d_dict_mid_ts.items():\n",
    "    if k[0] in nonzero_idx and k[1] in nonzero_idx:\n",
    "        rX[converter[k[0]], converter[k[1]]] = len(v)\n",
    "rX = rX / rX.sum()\n",
    "#plt.imshow(rX)\n",
    "#plt.imshow(X)\n",
    "plt.imshow(X*rX)"
   ]
  },
  {
   "cell_type": "code",
   "execution_count": null,
   "id": "761685fd",
   "metadata": {},
   "outputs": [],
   "source": []
  },
  {
   "cell_type": "code",
   "execution_count": 176,
   "id": "b162fcfa",
   "metadata": {},
   "outputs": [],
   "source": [
    "with open(\"logs/train_ts_dv3_newedge_nolocal_zzin-retrain_zzin-retrain/sample_ld_result3000/samples_all.pkl\",'rb') as f:\n",
    "    gen_data = pickle.load(f)"
   ]
  },
  {
   "cell_type": "code",
   "execution_count": 291,
   "id": "a9d5d2dd",
   "metadata": {},
   "outputs": [
    {
     "name": "stderr",
     "output_type": "stream",
     "text": [
      "100%|██████████| 3000/3000 [00:21<00:00, 142.04it/s]\n"
     ]
    }
   ],
   "source": [
    "\n",
    "d_dict_gen_ts = dict([(x, []) for x in list(itertools.product(range(25), range(25)))])\n",
    "edge_nums = []\n",
    "for d in tqdm.tqdm(gen_data):\n",
    "    # get edge index and edge type\n",
    "    N = len(d.atom_type)\n",
    "    pos = d.pos\n",
    "    bond_index = d.edge_index\n",
    "    bond_type = d.edge_type\n",
    "    batch = torch.Tensor([0]*N).to(torch.long)\n",
    "    edge_idx, _, type_r, type_p = model._extend_condensed_graph_edge(N, pos, bond_index, bond_type, batch, edge_order=2, cutoff=5.0)\n",
    "    \n",
    "    edge_nums.append((edge_idx.shape[1]/2, N))\n",
    "    # distance of each edge in r,p,ts geometry\n",
    "    ts_dm = torch.cdist(d.pos, d.pos)\n",
    "    gen_dm = torch.cdist(d.pos_gen, d.pos_gen)\n",
    "    gen_d = []\n",
    "    ts_d = []\n",
    "    for i in range(edge_idx.shape[1]):\n",
    "        gen_d.append(gen_dm[edge_idx[0][i]][edge_idx[1][i]])\n",
    "        ts_d.append(ts_dm[edge_idx[0][i]][edge_idx[1][i]])\n",
    "    gen_d = torch.Tensor(gen_d)\n",
    "    ts_d = torch.Tensor(ts_d)\n",
    "    \n",
    "    # append distance error of r geometry for each edge type\n",
    "    for egen, r, p in zip(gen_d - ts_d, type_r, type_p):\n",
    "        x = d_dict_gen_ts[(r.item(), p.item())]\n",
    "        x.append(egen)\n"
   ]
  },
  {
   "cell_type": "code",
   "execution_count": 292,
   "id": "ce17b127",
   "metadata": {},
   "outputs": [
    {
     "data": {
      "text/plain": [
       "tensor([15, 15, 10, 10,  6,  6,  6,  6,  6,  6, 20, 20,  8,  8, 43, 43, 28, 28,\n",
       "        27, 27, 19, 19, 15, 15, 36, 36, 15, 15, 26, 26, 26, 26, 34, 34, 27, 27,\n",
       "        25, 25, 21, 21,  9,  9, 25, 25,  9,  9, 21, 21, 28, 28, 61, 61, 42, 42,\n",
       "        15, 15, 36, 36, 36, 36, 28, 28, 10, 10, 21, 21, 27, 27, 26, 26, 21, 21,\n",
       "         6,  6,  9,  9, 52, 52, 21, 21, 14, 14, 53, 53, 34, 34, 35, 35, 64, 64,\n",
       "        57, 57, 72, 72, 82, 82, 19, 19, 21, 21, 19, 19, 20, 20, 41, 41, 34, 34,\n",
       "        61, 61, 75, 75, 38, 38, 44, 44, 43, 43, 14, 14, 10, 10, 49, 49, 41, 41,\n",
       "        26, 26, 14, 14, 55, 55, 28, 28, 44, 44, 42, 42, 63, 63, 21, 21, 27, 27,\n",
       "        43, 43, 21, 21, 21, 21, 16, 16, 73, 73, 36, 36])"
      ]
     },
     "execution_count": 292,
     "metadata": {},
     "output_type": "execute_result"
    }
   ],
   "source": [
    "e, n = torch.LongTensor(edge_nums).T\n",
    "(e - 3*n + 6)[tmp < 1]"
   ]
  },
  {
   "cell_type": "code",
   "execution_count": 290,
   "id": "970dd85e",
   "metadata": {},
   "outputs": [],
   "source": [
    "tmp = torch.Tensor([x/(3*y -6) for x, y in edge_nums])\n",
    "(tmp < 1).float().mean()\n",
    "torch.LongTensor(edge_nums)[tmp < 1]\n",
    "pass"
   ]
  },
  {
   "cell_type": "code",
   "execution_count": 240,
   "id": "59aa3326",
   "metadata": {},
   "outputs": [
    {
     "name": "stderr",
     "output_type": "stream",
     "text": [
      "/home/ksh/.conda/envs/tsdiff/lib/python3.7/site-packages/ipykernel_launcher.py:9: RuntimeWarning: Mean of empty slice.\n",
      "  if __name__ == '__main__':\n",
      "/home/ksh/.conda/envs/tsdiff/lib/python3.7/site-packages/numpy/core/_methods.py:170: RuntimeWarning: invalid value encountered in double_scalars\n",
      "  ret = ret.dtype.type(ret / rcount)\n"
     ]
    },
    {
     "data": {
      "text/plain": [
       "<matplotlib.image.AxesImage at 0x7f2046245e50>"
      ]
     },
     "execution_count": 240,
     "metadata": {},
     "output_type": "execute_result"
    },
    {
     "data": {
      "image/png": "[encoded data removed]",
      "text/plain": [
       "<Figure size 432x288 with 1 Axes>"
      ]
     },
     "metadata": {
      "needs_background": "light"
     },
     "output_type": "display_data"
    }
   ],
   "source": [
    "converter = np.arange(25)\n",
    "converter[12] = 4\n",
    "converter[23] = 5\n",
    "converter[24] = 6\n",
    "nonzero_idx = np.array([ 0,  1,  2,  3, 12, 23, 24])\n",
    "X = np.zeros((7,7))\n",
    "for k, v in d_dict_gen_ts.items():\n",
    "    if k[0] in nonzero_idx and k[1] in nonzero_idx:\n",
    "        X[converter[k[0]], converter[k[1]]] = np.abs(np.array(v)).mean()\n",
    "    \n",
    "plt.imshow(X)"
   ]
  },
  {
   "cell_type": "code",
   "execution_count": 268,
   "id": "7d2f3c66",
   "metadata": {},
   "outputs": [
    {
     "name": "stdout",
     "output_type": "stream",
     "text": [
      "tensor([[    0.00,     0.90,     0.00,     0.00,     0.06,     3.41,     7.31],\n",
      "        [    0.90,    15.11,     0.74,     0.03,     0.33,     0.80,     0.49],\n",
      "        [    0.00,     0.74,     0.43,     0.11,     0.20,     0.00,     0.01],\n",
      "        [    0.00,     0.03,     0.11,     0.17,     0.03,     0.00,     0.00],\n",
      "        [    0.06,     0.33,     0.20,     0.03,     0.12,     0.01,     0.01],\n",
      "        [    3.41,     0.80,     0.00,     0.00,     0.01,    26.72,     2.41],\n",
      "        [    7.31,     0.49,     0.01,     0.00,     0.01,     2.41,    23.76]])\n"
     ]
    },
    {
     "data": {
      "image/png": "[encoded data removed]",
      "text/plain": [
       "<Figure size 432x288 with 1 Axes>"
      ]
     },
     "metadata": {
      "needs_background": "light"
     },
     "output_type": "display_data"
    }
   ],
   "source": [
    "converter = np.arange(25)\n",
    "converter[12] = 4\n",
    "converter[23] = 5\n",
    "converter[24] = 6\n",
    "nonzero_idx = np.array([ 0,  1,  2,  3, 12, 23, 24])\n",
    "rX = np.zeros((7,7))\n",
    "for k, v in d_dict_gen_ts.items():\n",
    "    if k[0] in nonzero_idx and k[1] in nonzero_idx:\n",
    "        rX[converter[k[0]], converter[k[1]]] = len(v)\n",
    "#rX = rX / rX.sum()\n",
    "plt.imshow(rX/rX.sum())\n",
    "rX = torch.Tensor(rX)\n",
    "rX = rX / rX.sum()\n",
    "torch.set_printoptions(precision=2,sci_mode=False)\n",
    "print(rX*100)"
   ]
  },
  {
   "cell_type": "code",
   "execution_count": 259,
   "id": "f1104e5b",
   "metadata": {},
   "outputs": [
    {
     "name": "stderr",
     "output_type": "stream",
     "text": [
      "/home/ksh/.conda/envs/tsdiff/lib/python3.7/site-packages/ipykernel_launcher.py:9: RuntimeWarning: Mean of empty slice.\n",
      "  if __name__ == '__main__':\n"
     ]
    },
    {
     "data": {
      "text/plain": [
       "<matplotlib.image.AxesImage at 0x7f20459bfcd0>"
      ]
     },
     "execution_count": 259,
     "metadata": {},
     "output_type": "execute_result"
    },
    {
     "data": {
      "image/png": "[encoded data removed]",
      "text/plain": [
       "<Figure size 432x288 with 1 Axes>"
      ]
     },
     "metadata": {
      "needs_background": "light"
     },
     "output_type": "display_data"
    }
   ],
   "source": [
    "converter = np.arange(25)\n",
    "converter[12] = 4\n",
    "converter[23] = 5\n",
    "converter[24] = 6\n",
    "nonzero_idx = np.array([ 0,  1,  2,  3, 12, 23, 24])\n",
    "X = np.zeros((7,7))\n",
    "for k, v in d_dict_gen_ts.items():\n",
    "    if k[0] in nonzero_idx and k[1] in nonzero_idx:\n",
    "        X[converter[k[0]], converter[k[1]]] = np.abs(np.array(v)).mean()\n",
    "    \n",
    "converter = np.arange(25)\n",
    "converter[12] = 4\n",
    "converter[23] = 5\n",
    "converter[24] = 6\n",
    "nonzero_idx = np.array([ 0,  1,  2,  3, 12, 23, 24])\n",
    "rX = np.zeros((7,7))\n",
    "for k, v in d_dict_gen_ts.items():\n",
    "    if k[0] in nonzero_idx and k[1] in nonzero_idx:\n",
    "        rX[converter[k[0]], converter[k[1]]] = len(v)\n",
    "rX = rX / rX.sum()\n",
    "\n",
    "plt.imshow(np.nan_to_num(X * rX))"
   ]
  },
  {
   "cell_type": "code",
   "execution_count": null,
   "id": "44b7fa16",
   "metadata": {},
   "outputs": [],
   "source": []
  }
 ],
 "metadata": {
  "kernelspec": {
   "display_name": "tsdiff",
   "language": "python",
   "name": "tsdiff"
  },
  "language_info": {
   "codemirror_mode": {
    "name": "ipython",
    "version": 3
   },
   "file_extension": ".py",
   "mimetype": "text/x-python",
   "name": "python",
   "nbconvert_exporter": "python",
   "pygments_lexer": "ipython3",
   "version": "3.7.10"
  }
 },
 "nbformat": 4,
 "nbformat_minor": 5
}
