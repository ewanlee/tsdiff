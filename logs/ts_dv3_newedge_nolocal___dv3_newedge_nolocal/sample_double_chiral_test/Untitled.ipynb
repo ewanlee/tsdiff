{
 "cells": [
  {
   "cell_type": "code",
   "execution_count": 1,
   "id": "ff1a3f9b",
   "metadata": {},
   "outputs": [],
   "source": [
    "import py3Dmol"
   ]
  },
  {
   "cell_type": "code",
   "execution_count": 7,
   "id": "54d7d9a3",
   "metadata": {},
   "outputs": [],
   "source": [
    "with open(\"xyz_gen/samples_1_1.xyz\",\"r\") as f: xyz = \"\".join(f.readlines())"
   ]
  },
  {
   "cell_type": "code",
   "execution_count": 8,
   "id": "5efcf128",
   "metadata": {},
   "outputs": [
    {
     "data": {
      "application/3dmoljs_load.v0": "<div id=\"3dmolviewer_16675922788518972\"  style=\"position: relative; width: 400px; height: 300px\">\n        <p id=\"3dmolwarning_16675922788518972\" style=\"background-color:#ffcccc;color:black\">You appear to be running in JupyterLab (or JavaScript failed to load for some other reason).  You need to install the 3dmol extension: <br>\n        <tt>jupyter labextension install jupyterlab_3dmol</tt></p>\n        </div>\n<script>\n\nvar loadScriptAsync = function(uri){\n  return new Promise((resolve, reject) => {\n    var tag = document.createElement('script');\n    tag.src = uri;\n    tag.async = true;\n    tag.onload = () => {\n      resolve();\n    };\n  var firstScriptTag = document.getElementsByTagName('script')[0];\n  firstScriptTag.parentNode.insertBefore(tag, firstScriptTag);\n});\n};\n\nif(typeof $3Dmolpromise === 'undefined') {\n$3Dmolpromise = null;\n  $3Dmolpromise = loadScriptAsync('https://cdn.jsdelivr.net/npm/3dmol@latest/build/3Dmol-min.min.js');\n}\n\nvar viewer_16675922788518972 = null;\nvar warn = document.getElementById(\"3dmolwarning_16675922788518972\");\nif(warn) {\n    warn.parentNode.removeChild(warn);\n}\n$3Dmolpromise.then(function() {\nviewer_16675922788518972 = $3Dmol.createViewer($(\"#3dmolviewer_16675922788518972\"),{backgroundColor:\"white\"});\nviewer_16675922788518972.zoomTo();\n\tviewer_16675922788518972.setViewStyle({\"style\": \"outline\", \"color\": \"black\", \"width\": 0.1});\n\tviewer_16675922788518972.addModel(\"22\\n\\nN -1.737579345703125 -1.6654990911483765 0.5054004788398743 \\nC -0.42779335379600525 -1.1201010942459106 0.12477649748325348 \\nC 0.6847120523452759 -1.8594818115234375 0.9306455850601196 \\nO -0.29532390832901 -1.3462443351745605 -1.207801103591919 \\nC -0.4419873058795929 0.4465029835700989 0.3672862946987152 \\nN -0.8695610761642456 0.7218029499053955 1.6711020469665527 \\nO 0.4549277126789093 0.9357708692550659 -1.7452374696731567 \\nC 0.5435889959335327 2.2824528217315674 -2.001038074493408 \\nH -2.5032389163970947 -1.174231767654419 0.11041940748691559 \\nH -1.788055181503296 -2.218149185180664 1.303958773612976 \\nH 0.6476773023605347 -2.9388647079467773 0.6886357069015503 \\nH 1.6976594924926758 -1.4596658945083618 0.6669890880584717 \\nH 0.552766740322113 -1.7265920639038086 2.0002059936523438 \\nH 0.5598312616348267 -0.9251987934112549 -1.4757153987884521 \\nH -0.9789611101150513 1.0816118717193604 -0.3259451389312744 \\nH -0.4814477562904358 1.6270651817321777 1.9926419258117676 \\nH -1.1425472497940063 0.022047515958547592 2.269786834716797 \\nH -0.3847419321537018 2.782382011413574 -2.04048752784729 \\nH 1.2457536458969116 2.7651796340942383 -1.230238437652588 \\nH 1.1140114068984985 2.358678102493286 -2.9721949100494385 \\nO 1.5333737134933472 0.8065378665924072 0.595040500164032 \\nH 2.0169355869293213 0.6039971113204956 -0.22823098301887512 \\n\");\n\tviewer_16675922788518972.setStyle({\"stick\": {}});\n\tviewer_16675922788518972.rotate(-90,\"y\");\nviewer_16675922788518972.render();\n});\n</script>",
      "text/html": [
       "<div id=\"3dmolviewer_16675922788518972\"  style=\"position: relative; width: 400px; height: 300px\">\n",
       "        <p id=\"3dmolwarning_16675922788518972\" style=\"background-color:#ffcccc;color:black\">You appear to be running in JupyterLab (or JavaScript failed to load for some other reason).  You need to install the 3dmol extension: <br>\n",
       "        <tt>jupyter labextension install jupyterlab_3dmol</tt></p>\n",
       "        </div>\n",
       "<script>\n",
       "\n",
       "var loadScriptAsync = function(uri){\n",
       "  return new Promise((resolve, reject) => {\n",
       "    var tag = document.createElement('script');\n",
       "    tag.src = uri;\n",
       "    tag.async = true;\n",
       "    tag.onload = () => {\n",
       "      resolve();\n",
       "    };\n",
       "  var firstScriptTag = document.getElementsByTagName('script')[0];\n",
       "  firstScriptTag.parentNode.insertBefore(tag, firstScriptTag);\n",
       "});\n",
       "};\n",
       "\n",
       "if(typeof $3Dmolpromise === 'undefined') {\n",
       "$3Dmolpromise = null;\n",
       "  $3Dmolpromise = loadScriptAsync('https://cdn.jsdelivr.net/npm/3dmol@latest/build/3Dmol-min.min.js');\n",
       "}\n",
       "\n",
       "var viewer_16675922788518972 = null;\n",
       "var warn = document.getElementById(\"3dmolwarning_16675922788518972\");\n",
       "if(warn) {\n",
       "    warn.parentNode.removeChild(warn);\n",
       "}\n",
       "$3Dmolpromise.then(function() {\n",
       "viewer_16675922788518972 = $3Dmol.createViewer($(\"#3dmolviewer_16675922788518972\"),{backgroundColor:\"white\"});\n",
       "viewer_16675922788518972.zoomTo();\n",
       "\tviewer_16675922788518972.setViewStyle({\"style\": \"outline\", \"color\": \"black\", \"width\": 0.1});\n",
       "\tviewer_16675922788518972.addModel(\"22\\n\\nN -1.737579345703125 -1.6654990911483765 0.5054004788398743 \\nC -0.42779335379600525 -1.1201010942459106 0.12477649748325348 \\nC 0.6847120523452759 -1.8594818115234375 0.9306455850601196 \\nO -0.29532390832901 -1.3462443351745605 -1.207801103591919 \\nC -0.4419873058795929 0.4465029835700989 0.3672862946987152 \\nN -0.8695610761642456 0.7218029499053955 1.6711020469665527 \\nO 0.4549277126789093 0.9357708692550659 -1.7452374696731567 \\nC 0.5435889959335327 2.2824528217315674 -2.001038074493408 \\nH -2.5032389163970947 -1.174231767654419 0.11041940748691559 \\nH -1.788055181503296 -2.218149185180664 1.303958773612976 \\nH 0.6476773023605347 -2.9388647079467773 0.6886357069015503 \\nH 1.6976594924926758 -1.4596658945083618 0.6669890880584717 \\nH 0.552766740322113 -1.7265920639038086 2.0002059936523438 \\nH 0.5598312616348267 -0.9251987934112549 -1.4757153987884521 \\nH -0.9789611101150513 1.0816118717193604 -0.3259451389312744 \\nH -0.4814477562904358 1.6270651817321777 1.9926419258117676 \\nH -1.1425472497940063 0.022047515958547592 2.269786834716797 \\nH -0.3847419321537018 2.782382011413574 -2.04048752784729 \\nH 1.2457536458969116 2.7651796340942383 -1.230238437652588 \\nH 1.1140114068984985 2.358678102493286 -2.9721949100494385 \\nO 1.5333737134933472 0.8065378665924072 0.595040500164032 \\nH 2.0169355869293213 0.6039971113204956 -0.22823098301887512 \\n\");\n",
       "\tviewer_16675922788518972.setStyle({\"stick\": {}});\n",
       "\tviewer_16675922788518972.rotate(-90,\"y\");\n",
       "viewer_16675922788518972.render();\n",
       "});\n",
       "</script>"
      ]
     },
     "metadata": {},
     "output_type": "display_data"
    }
   ],
   "source": [
    "viewer = py3Dmol.view(width=400, height=300)\n",
    "# black outline for nicer-looking figures\n",
    "viewer.setViewStyle({\"style\": \"outline\", \"color\": \"black\", \"width\": 0.1})\n",
    "viewer.addModel(xyz)\n",
    "\n",
    "# visualize with the stick option - can also consider spheres and more\n",
    "viewer.setStyle({\"stick\": {}})\n",
    "# rotate for a better initial view\n",
    "viewer.rotate(-90, \"y\")\n",
    "viewer.show()"
   ]
  },
  {
   "cell_type": "code",
   "execution_count": null,
   "id": "1eb7c421",
   "metadata": {},
   "outputs": [],
   "source": []
  }
 ],
 "metadata": {
  "kernelspec": {
   "display_name": "echem_kaist",
   "language": "python",
   "name": "echem_kaist"
  },
  "language_info": {
   "codemirror_mode": {
    "name": "ipython",
    "version": 3
   },
   "file_extension": ".py",
   "mimetype": "text/x-python",
   "name": "python",
   "nbconvert_exporter": "python",
   "pygments_lexer": "ipython3",
   "version": "3.9.13"
  }
 },
 "nbformat": 4,
 "nbformat_minor": 5
}
