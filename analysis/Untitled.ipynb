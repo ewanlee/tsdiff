{
 "cells": [
  {
   "cell_type": "code",
   "execution_count": 145,
   "id": "02198039",
   "metadata": {},
   "outputs": [],
   "source": [
    "import numpy as np\n",
    "import matplotlib.pyplot as plt\n",
    "import seaborn as sns\n",
    "import pickle\n",
    "import pandas as pd"
   ]
  },
  {
   "cell_type": "code",
   "execution_count": 160,
   "id": "b86efca8",
   "metadata": {},
   "outputs": [],
   "source": [
    "def save_traj(file_name, save_name, df, r_xyzs, p_xyzs):\n",
    "    atom_to_symbol = {6:\"C\", 7:\"N\", 8:\"O\", 1:\"H\"}\n",
    "\n",
    "    with open(file_name, \"rb\") as f:\n",
    "        data = pickle.load(f)\n",
    "    for i,d in enumerate(data):\n",
    "        index = np.array(df.AAM == d.smiles).nonzero()[0][0]\n",
    "        atom_type = [atom_to_symbol[a] for a in d.atom_type.tolist()]\n",
    "        pos_gen = d.pos_gen[:,:len(atom_type),:].numpy()\n",
    "        r_xyz = pos_from_xyz(r_xyzs[index])\n",
    "        p_xyz = pos_from_xyz(p_xyzs[index])\n",
    "        np.savez(f\"{save_name}_{i}\", \n",
    "                 pos_gen=pos_gen, \n",
    "                 atom_type=atom_type, \n",
    "                 pos=d.pos.numpy(),\n",
    "                 r_pos = r_xyz,\n",
    "                 p_pos = p_xyz)\n",
    "        \n",
    "def pos_from_xyz(xyz):\n",
    "    return np.array([[float(v) for v in l.split()[1:]] for l in xyz.strip().split(\"\\n\")[2:]])"
   ]
  },
  {
   "cell_type": "code",
   "execution_count": 161,
   "id": "605e576e",
   "metadata": {},
   "outputs": [],
   "source": [
    "df = pd.read_csv(\"data/TS/b97d3/raw_data/b97d3_fwd_rev_chemprop.csv\")\n",
    "with open(\"data/TS/b97d3/raw_data/b97d3_reactants.txt\",\"r\") as f:\n",
    "    r_xyzs = \"\".join(f.readlines()).split(\"$$$$$\\n\")\n",
    "with open(\"data/TS/b97d3/raw_data/b97d3_products.txt\",\"r\") as f:\n",
    "    p_xyzs = \"\".join(f.readlines()).split(\"$$$$$\\n\")\n"
   ]
  },
  {
   "cell_type": "code",
   "execution_count": 153,
   "id": "6cda7bce",
   "metadata": {},
   "outputs": [],
   "source": [
    "save_traj(\"logs/ts_dv3_newedge_nolocal___dv3_newedge_nolocal/traj_1_372_62.pkl\",\"traj_1_372_62\", df, r_xyzs, p_xyzs)"
   ]
  },
  {
   "cell_type": "code",
   "execution_count": 163,
   "id": "47c71b42",
   "metadata": {},
   "outputs": [],
   "source": []
  },
  {
   "cell_type": "code",
   "execution_count": 114,
   "id": "4dcc13d6",
   "metadata": {},
   "outputs": [],
   "source": [
    "score_base = np.load(\"score_base.npz\")\n",
    "score_nolocal = np.load(\"score_nolocal.npz\")"
   ]
  },
  {
   "cell_type": "code",
   "execution_count": 115,
   "id": "f79c793b",
   "metadata": {},
   "outputs": [],
   "source": [
    "mae_base = score_base[\"mae\"]\n",
    "mae_nolocal = score_nolocal[\"mae\"]\n",
    "dmae_base = score_base[\"dm_mae\"]\n",
    "dmae_nolocal = score_nolocal[\"dm_mae\"]\n",
    "\n",
    "rmsd_nolocal = score_nolocal[\"rmsd\"]\n",
    "drmsd_nolocal = score_nolocal[\"dm_rmsd\"]"
   ]
  },
  {
   "cell_type": "code",
   "execution_count": 29,
   "id": "f66986f7",
   "metadata": {},
   "outputs": [
    {
     "name": "stdout",
     "output_type": "stream",
     "text": [
      "0.6755486044177953 0.892384335686473\n",
      "0.22820824323124042 0.40510694512887907\n"
     ]
    }
   ],
   "source": [
    "print(mae_nolocal.mean(), rmsd_nolocal.mean())\n",
    "print(dmae_nolocal.mean(), drmsd_nolocal.mean())"
   ]
  },
  {
   "cell_type": "code",
   "execution_count": 120,
   "id": "6f0e5d2d",
   "metadata": {
    "jupyter": {
     "source_hidden": true
    },
    "tags": []
   },
   "outputs": [],
   "source": [
    "index = (mae_base.mean(-1) > 10).nonzero()[:100][0]\n",
    "import pickle\n",
    "test_data = \"/home/ksh/MolDiff/GeoDiff/data/TS/b97d3/test_data.pkl\"\n",
    "with open(test_data, \"rb\") as f:\n",
    "    test_data = pickle.load(f)"
   ]
  },
  {
   "cell_type": "code",
   "execution_count": 122,
   "id": "63638baf",
   "metadata": {
    "jupyter": {
     "source_hidden": true
    },
    "tags": []
   },
   "outputs": [],
   "source": [
    "new_data = [test_data[i] for i in index]\n",
    "with open(\"data/TS/b97d3/abnormal_test_100.pkl\",\"wb\") as f:\n",
    "    pickle.dump(new_data, f)"
   ]
  },
  {
   "cell_type": "code",
   "execution_count": 34,
   "id": "0cb097ce",
   "metadata": {},
   "outputs": [
    {
     "name": "stdout",
     "output_type": "stream",
     "text": [
      "0.1995217858028047 0.6075973657310495\n",
      "0.1981016322225553 0.5925819239075621\n"
     ]
    }
   ],
   "source": [
    "print((dmae_base.mean(axis=-1)[mae_base.mean(axis=-1) < 1.5]).mean(), mae_base.mean(axis=-1)[mae_base.mean(axis=-1)<1.5].mean())\n",
    "print((dmae_nolocal.mean(axis=-1)[mae_base.mean(axis=-1) < 1.5]).mean(), mae_nolocal.mean(axis=-1)[mae_base.mean(axis=-1)<1.5].mean())"
   ]
  },
  {
   "cell_type": "code",
   "execution_count": 35,
   "id": "78ac7d7d",
   "metadata": {},
   "outputs": [
    {
     "data": {
      "text/plain": [
       "0.22820824323124042"
      ]
     },
     "execution_count": 35,
     "metadata": {},
     "output_type": "execute_result"
    }
   ],
   "source": [
    "dmae_nolocal.mean()"
   ]
  },
  {
   "cell_type": "code",
   "execution_count": null,
   "id": "695b5a59",
   "metadata": {},
   "outputs": [],
   "source": []
  },
  {
   "cell_type": "code",
   "execution_count": 135,
   "id": "91634454",
   "metadata": {},
   "outputs": [
    {
     "name": "stdout",
     "output_type": "stream",
     "text": [
      "0.6961346908207597 0.23137401014107484\n"
     ]
    }
   ],
   "source": [
    "print(mae_nolocal.mean(-1)[1], dmae_nolocal.mean(-1)[1])"
   ]
  },
  {
   "cell_type": "code",
   "execution_count": 126,
   "id": "89cd0e43",
   "metadata": {},
   "outputs": [
    {
     "data": {
      "text/plain": [
       "(0.03333499611413028, 0.008955345615640408)"
      ]
     },
     "execution_count": 126,
     "metadata": {},
     "output_type": "execute_result"
    }
   ],
   "source": [
    "mae_nolocal.mean(-1)[372], dmae_nolocal.mean(-1)[372]"
   ]
  },
  {
   "cell_type": "code",
   "execution_count": 133,
   "id": "ce8e099f",
   "metadata": {},
   "outputs": [
    {
     "data": {
      "text/plain": [
       "(1.1994622692290093, 0.41093404568438663)"
      ]
     },
     "execution_count": 133,
     "metadata": {},
     "output_type": "execute_result"
    }
   ],
   "source": [
    "mae_nolocal.mean(-1)[62], dmae_nolocal.mean(-1)[62]"
   ]
  },
  {
   "cell_type": "code",
   "execution_count": 132,
   "id": "8114210f",
   "metadata": {},
   "outputs": [
    {
     "data": {
      "text/plain": [
       "<matplotlib.collections.LineCollection at 0x7f0328d78f10>"
      ]
     },
     "execution_count": 132,
     "metadata": {},
     "output_type": "execute_result"
    },
    {
     "data": {
      "image/png": "[encoded data removed]",
      "text/plain": [
       "<Figure size 432x288 with 1 Axes>"
      ]
     },
     "metadata": {
      "needs_background": "light"
     },
     "output_type": "display_data"
    }
   ],
   "source": [
    "plt.scatter(mae_nolocal.mean(-1), dmae_nolocal.mean(-1),s=4)\n",
    "plt.xlabel(\"Position MAE\",size=20)\n",
    "plt.ylabel(\"Distance MAE\",size=20)\n",
    "plt.xticks(size=15)\n",
    "plt.yticks(size=15)\n",
    "plt.vlines(mae_nolocal.mean(), ymin=0, ymax = 0.8, color=\"k\", linestyle=\"--\", alpha=0.8)\n",
    "plt.hlines(dmae_nolocal.mean(), xmin=0, xmax = 1.75, color=\"k\", linestyle=\"--\", alpha=0.8)"
   ]
  },
  {
   "cell_type": "code",
   "execution_count": 98,
   "id": "194fa4fd",
   "metadata": {},
   "outputs": [
    {
     "data": {
      "image/png": "[encoded data removed]",
      "text/plain": [
       "<Figure size 432x288 with 1 Axes>"
      ]
     },
     "metadata": {
      "needs_background": "light"
     },
     "output_type": "display_data"
    }
   ],
   "source": [
    "x = dmae_nolocal.mean(axis=-1)\n",
    "sns.kdeplot(x)\n",
    "plt.xlabel(\"Distance MAE\",size=20)\n",
    "plt.ylabel(\"Density\",size=20)\n",
    "plt.xticks(size=15)\n",
    "plt.yticks(size=15)\n",
    "plt.xlim((0,0.7))\n",
    "plt.vlines(x.mean(), ymin=0.0, ymax=4.0, color=\"k\", linestyle=\"--\")\n",
    "a = plt.hist(x,bins=100,density=True, color=\"tab:blue\",alpha=0.6)"
   ]
  },
  {
   "cell_type": "code",
   "execution_count": 105,
   "id": "70f81551",
   "metadata": {},
   "outputs": [
    {
     "data": {
      "image/png": "[encoded data removed]",
      "text/plain": [
       "<Figure size 432x288 with 1 Axes>"
      ]
     },
     "metadata": {
      "needs_background": "light"
     },
     "output_type": "display_data"
    }
   ],
   "source": [
    "x = mae_nolocal.mean(axis=-1)\n",
    "sns.kdeplot(x)\n",
    "plt.xlabel(\"Position MAE\",size=20)\n",
    "plt.ylabel(\"Density\",size=20)\n",
    "plt.xticks(size=15)\n",
    "plt.yticks(size=15)\n",
    "plt.xlim((0,1.8))\n",
    "plt.vlines(x.mean(), ymin=0.0, ymax=1.5, color=\"k\", linestyle=\"--\")\n",
    "a = plt.hist(x,bins=100,density=True, color=\"tab:blue\",alpha=0.6)"
   ]
  },
  {
   "cell_type": "code",
   "execution_count": 124,
   "id": "2e9f6fd8",
   "metadata": {
    "collapsed": true,
    "jupyter": {
     "outputs_hidden": true
    },
    "tags": []
   },
   "outputs": [
    {
     "name": "stdout",
     "output_type": "stream",
     "text": [
      "0.43 0.996\n",
      "0.6075973657310495 0.6719866615850603\n"
     ]
    },
    {
     "data": {
      "text/plain": [
       "<matplotlib.legend.Legend at 0x7f6e49538690>"
      ]
     },
     "execution_count": 124,
     "metadata": {},
     "output_type": "execute_result"
    },
    {
     "data": {
      "image/png": "[encoded data removed]",
      "text/plain": [
       "<Figure size 432x288 with 1 Axes>"
      ]
     },
     "metadata": {
      "needs_background": "light"
     },
     "output_type": "display_data"
    }
   ],
   "source": [
    "x = mae_base.mean(axis=-1)\n",
    "y = mae_nolocal.mean(axis=-1)\n",
    "sns.kdeplot(x[x < 1.5])\n",
    "sns.kdeplot(y[y < 1.5])\n",
    "print((x<1.5).sum()/len(x),(y<1.5).sum()/len(y))\n",
    "print((x[x<1.5]).mean(), (y[y<1.5]).mean())\n",
    "plt.legend([\"G+L\",\"G\"])"
   ]
  },
  {
   "cell_type": "code",
   "execution_count": 125,
   "id": "f1d390e1",
   "metadata": {
    "collapsed": true,
    "jupyter": {
     "outputs_hidden": true
    },
    "tags": []
   },
   "outputs": [
    {
     "name": "stdout",
     "output_type": "stream",
     "text": [
      "0.43 0.996\n"
     ]
    },
    {
     "data": {
      "text/plain": [
       "<matplotlib.legend.Legend at 0x7f6e49538250>"
      ]
     },
     "execution_count": 125,
     "metadata": {},
     "output_type": "execute_result"
    },
    {
     "data": {
      "image/png": "[encoded data removed]",
      "text/plain": [
       "<Figure size 432x288 with 1 Axes>"
      ]
     },
     "metadata": {
      "needs_background": "light"
     },
     "output_type": "display_data"
    }
   ],
   "source": [
    "x = mae_base.mean(axis=-1)\n",
    "y = mae_nolocal.mean(axis=-1)\n",
    "sns.kdeplot(x)\n",
    "#sns.kdeplot(y)\n",
    "print((x<1.5).sum()/len(x),(y<1.5).sum()/len(y))\n",
    "plt.legend([\"G+L\",\"G\"])"
   ]
  },
  {
   "cell_type": "code",
   "execution_count": 135,
   "id": "ba212995",
   "metadata": {},
   "outputs": [
    {
     "data": {
      "text/plain": [
       "(array([], dtype=int64),)"
      ]
     },
     "execution_count": 135,
     "metadata": {},
     "output_type": "execute_result"
    }
   ],
   "source": [
    "idx = (mae_nolocal.mean(-1) > 1.0) * (dmae_nolocal.mean(-1) < 0.1)\n",
    "idx.nonzero()"
   ]
  },
  {
   "cell_type": "code",
   "execution_count": 144,
   "id": "3b7645e5",
   "metadata": {},
   "outputs": [],
   "source": [
    "index_bad = (mae_base.mean(-1) > 3).nonzero()[0]\n",
    "index_good = (mae_base.mean(-1) < 1.5).nonzero()[0]"
   ]
  },
  {
   "cell_type": "code",
   "execution_count": 146,
   "id": "4c0136a8",
   "metadata": {},
   "outputs": [
    {
     "data": {
      "text/plain": [
       "(570, 430)"
      ]
     },
     "execution_count": 146,
     "metadata": {},
     "output_type": "execute_result"
    }
   ],
   "source": [
    "len(index_bad), len(index_good)"
   ]
  },
  {
   "cell_type": "code",
   "execution_count": 148,
   "id": "3ac7edd8",
   "metadata": {},
   "outputs": [],
   "source": [
    "with open(\"data/TS/b97d3/random_split/test_data.pkl\", \"rb\") as f:\n",
    "    test_set = pickle.load(f)"
   ]
  },
  {
   "cell_type": "code",
   "execution_count": 149,
   "id": "61158492",
   "metadata": {},
   "outputs": [],
   "source": [
    "test_bad = [test_set[i] for i in index_bad]\n",
    "test_good = [test_set[i] for i in index_good]\n",
    "with open(\"data/TS/b97d3/test_bad.pkl\",\"wb\") as f:\n",
    "    pickle.dump(test_bad, f)\n",
    "with open(\"data/TS/b97d3/test_good.pkl\",\"wb\") as f:\n",
    "    pickle.dump(test_good, f)"
   ]
  },
  {
   "cell_type": "code",
   "execution_count": 155,
   "id": "94bcd0e1",
   "metadata": {},
   "outputs": [
    {
     "name": "stdout",
     "output_type": "stream",
     "text": [
      "323\n",
      "0\n"
     ]
    }
   ],
   "source": [
    "cnt = 0\n",
    "for d in test_bad:\n",
    "    if \".\" in d.smiles:\n",
    "        cnt += 1\n",
    "print(cnt)\n",
    "\n",
    "cnt = 0\n",
    "for d in test_good:\n",
    "    if \".\" in d.smiles:\n",
    "        cnt += 1\n",
    "print(cnt)"
   ]
  },
  {
   "cell_type": "code",
   "execution_count": 157,
   "id": "eb88d702",
   "metadata": {},
   "outputs": [
    {
     "data": {
      "text/plain": [
       "0.5666666666666667"
      ]
     },
     "execution_count": 157,
     "metadata": {},
     "output_type": "execute_result"
    }
   ],
   "source": []
  },
  {
   "cell_type": "code",
   "execution_count": null,
   "id": "122ea4fa",
   "metadata": {},
   "outputs": [],
   "source": []
  }
 ],
 "metadata": {
  "kernelspec": {
   "display_name": "geodiff",
   "language": "python",
   "name": "geodiff"
  },
  "language_info": {
   "codemirror_mode": {
    "name": "ipython",
    "version": 3
   },
   "file_extension": ".py",
   "mimetype": "text/x-python",
   "name": "python",
   "nbconvert_exporter": "python",
   "pygments_lexer": "ipython3",
   "version": "3.7.10"
  }
 },
 "nbformat": 4,
 "nbformat_minor": 5
}
