{
 "cells": [
  {
   "cell_type": "code",
   "execution_count": 1,
   "metadata": {
    "pycharm": {
     "name": "#%%\n"
    }
   },
   "outputs": [],
   "source": [
    "import py3Dmol as p3d\n",
    "import numpy as np\n",
    "import pickle\n",
    "#from ase.build.rotate import minimize_rotation_and_translation as transf\n",
    "#from ase.io import read\n",
    "#import torch"
   ]
  },
  {
   "cell_type": "code",
   "execution_count": 2,
   "metadata": {
    "pycharm": {
     "name": "#%%\n"
    }
   },
   "outputs": [],
   "source": [
    "def get_beta_schedule(beta_schedule, *, beta_start, beta_end, num_diffusion_timesteps):\n",
    "    def sigmoid(x):\n",
    "        return 1 / (np.exp(-x) + 1)\n",
    "\n",
    "    if beta_schedule == \"quad\":\n",
    "        betas = (\n",
    "            np.linspace(\n",
    "                beta_start**0.5,\n",
    "                beta_end**0.5,\n",
    "                num_diffusion_timesteps,\n",
    "                dtype=np.float64,\n",
    "            )\n",
    "            ** 2\n",
    "        )\n",
    "    elif beta_schedule == \"linear\":\n",
    "        betas = np.linspace(\n",
    "            beta_start, beta_end, num_diffusion_timesteps, dtype=np.float64\n",
    "        )\n",
    "    elif beta_schedule == \"const\":\n",
    "        betas = beta_end * np.ones(num_diffusion_timesteps, dtype=np.float64)\n",
    "    elif beta_schedule == \"jsd\":  # 1/T, 1/(T-1), 1/(T-2), ..., 1\n",
    "        betas = 1.0 / np.linspace(\n",
    "            num_diffusion_timesteps, 1, num_diffusion_timesteps, dtype=np.float64\n",
    "        )\n",
    "    elif beta_schedule == \"sigmoid\":\n",
    "        betas = np.linspace(-6, 6, num_diffusion_timesteps)\n",
    "        betas = sigmoid(betas) * (beta_end - beta_start) + beta_start\n",
    "    else:\n",
    "        raise NotImplementedError(beta_schedule)\n",
    "    assert betas.shape == (num_diffusion_timesteps,)\n",
    "    return betas\n",
    "\n",
    "def make_xyz(symbols, pos_array):\n",
    "    msg = f\"{len(pos_array)}\\n\"\n",
    "    symbol_dict = {1:\"H\", 6:\"C\", 7:\"N\", 8:\"O\"}\n",
    "    for s,xyz in zip(symbols, pos_array):\n",
    "        if not isinstance(s, str):\n",
    "            s = symbol_dict[s]\n",
    "        msg += f\"\\n{s}\"\n",
    "        for v in xyz:\n",
    "            msg += f\" {v}\"\n",
    "    return msg"
   ]
  },
  {
   "cell_type": "code",
   "execution_count": 3,
   "metadata": {
    "collapsed": false,
    "jupyter": {
     "outputs_hidden": false
    },
    "pycharm": {
     "name": "#%%\n"
    }
   },
   "outputs": [],
   "source": [
    "with open(\"tmp.xyz\",\"r\") as f: tmpxyz = f.read()"
   ]
  },
  {
   "cell_type": "code",
   "execution_count": 4,
   "metadata": {
    "pycharm": {
     "name": "#%%\n"
    }
   },
   "outputs": [
    {
     "data": {
      "application/3dmoljs_load.v0": "<div id=\"3dmolviewer_16758929042753146\"  style=\"position: relative; width: 800px; height: 400px\">\n        <p id=\"3dmolwarning_16758929042753146\" style=\"background-color:#ffcccc;color:black\">You appear to be running in JupyterLab (or JavaScript failed to load for some other reason).  You need to install the 3dmol extension: <br>\n        <tt>jupyter labextension install jupyterlab_3dmol</tt></p>\n        </div>\n<script>\n\nvar loadScriptAsync = function(uri){\n  return new Promise((resolve, reject) => {\n    var tag = document.createElement('script');\n    tag.src = uri;\n    tag.async = true;\n    tag.onload = () => {\n      resolve();\n    };\n  var firstScriptTag = document.getElementsByTagName('script')[0];\n  firstScriptTag.parentNode.insertBefore(tag, firstScriptTag);\n});\n};\n\nif(typeof $3Dmolpromise === 'undefined') {\n$3Dmolpromise = null;\n  $3Dmolpromise = loadScriptAsync('https://cdn.jsdelivr.net/npm/3dmol@latest/build/3Dmol-min.min.js');\n}\n\nvar viewer_16758929042753146 = null;\nvar warn = document.getElementById(\"3dmolwarning_16758929042753146\");\nif(warn) {\n    warn.parentNode.removeChild(warn);\n}\n$3Dmolpromise.then(function() {\nviewer_16758929042753146 = $3Dmol.createViewer($(\"#3dmolviewer_16758929042753146\"),{backgroundColor:\"white\"});\nviewer_16758929042753146.zoomTo();\n\tviewer_16758929042753146.addModel(\"13\\n\\nC 1.7909423112869263 0.596991240978241 0.5855516791343689\\nO 0.5307721495628357 0.09668484330177307 0.9509298205375671\\nC -0.04596466198563576 -0.6950348019599915 -0.045720651745796204\\nC -1.4517982006072998 -0.6923458576202393 -0.09351488202810287\\nO -1.5587055683135986 0.3914114534854889 -1.6083022356033325\\nH 2.162027359008789 1.1878548860549927 1.4223555326461792\\nH 2.50222110748291 -0.21351578831672668 0.3814733028411865\\nH 1.7263818979263306 1.22958505153656 -0.3090110719203949\\nH -0.4253983199596405 0.057112064212560654 -1.2035915851593018\\nH 0.48121151328086853 -1.6245979070663452 -0.2604717016220093\\nH -1.970199465751648 -1.5310877561569214 -0.5363168716430664\\nH -2.0237317085266113 -0.09124927967786789 0.6038382649421692\\nH -1.7789554595947266 1.3074898719787598 -1.397606611251831\",\"xyz\");\n\tviewer_16758929042753146.setStyle({\"stick\": {}});\nviewer_16758929042753146.render();\n});\n</script>",
      "text/html": [
       "<div id=\"3dmolviewer_16758929042753146\"  style=\"position: relative; width: 800px; height: 400px\">\n",
       "        <p id=\"3dmolwarning_16758929042753146\" style=\"background-color:#ffcccc;color:black\">You appear to be running in JupyterLab (or JavaScript failed to load for some other reason).  You need to install the 3dmol extension: <br>\n",
       "        <tt>jupyter labextension install jupyterlab_3dmol</tt></p>\n",
       "        </div>\n",
       "<script>\n",
       "\n",
       "var loadScriptAsync = function(uri){\n",
       "  return new Promise((resolve, reject) => {\n",
       "    var tag = document.createElement('script');\n",
       "    tag.src = uri;\n",
       "    tag.async = true;\n",
       "    tag.onload = () => {\n",
       "      resolve();\n",
       "    };\n",
       "  var firstScriptTag = document.getElementsByTagName('script')[0];\n",
       "  firstScriptTag.parentNode.insertBefore(tag, firstScriptTag);\n",
       "});\n",
       "};\n",
       "\n",
       "if(typeof $3Dmolpromise === 'undefined') {\n",
       "$3Dmolpromise = null;\n",
       "  $3Dmolpromise = loadScriptAsync('https://cdn.jsdelivr.net/npm/3dmol@latest/build/3Dmol-min.min.js');\n",
       "}\n",
       "\n",
       "var viewer_16758929042753146 = null;\n",
       "var warn = document.getElementById(\"3dmolwarning_16758929042753146\");\n",
       "if(warn) {\n",
       "    warn.parentNode.removeChild(warn);\n",
       "}\n",
       "$3Dmolpromise.then(function() {\n",
       "viewer_16758929042753146 = $3Dmol.createViewer($(\"#3dmolviewer_16758929042753146\"),{backgroundColor:\"white\"});\n",
       "viewer_16758929042753146.zoomTo();\n",
       "\tviewer_16758929042753146.addModel(\"13\\n\\nC 1.7909423112869263 0.596991240978241 0.5855516791343689\\nO 0.5307721495628357 0.09668484330177307 0.9509298205375671\\nC -0.04596466198563576 -0.6950348019599915 -0.045720651745796204\\nC -1.4517982006072998 -0.6923458576202393 -0.09351488202810287\\nO -1.5587055683135986 0.3914114534854889 -1.6083022356033325\\nH 2.162027359008789 1.1878548860549927 1.4223555326461792\\nH 2.50222110748291 -0.21351578831672668 0.3814733028411865\\nH 1.7263818979263306 1.22958505153656 -0.3090110719203949\\nH -0.4253983199596405 0.057112064212560654 -1.2035915851593018\\nH 0.48121151328086853 -1.6245979070663452 -0.2604717016220093\\nH -1.970199465751648 -1.5310877561569214 -0.5363168716430664\\nH -2.0237317085266113 -0.09124927967786789 0.6038382649421692\\nH -1.7789554595947266 1.3074898719787598 -1.397606611251831\",\"xyz\");\n",
       "\tviewer_16758929042753146.setStyle({\"stick\": {}});\n",
       "viewer_16758929042753146.render();\n",
       "});\n",
       "</script>"
      ]
     },
     "metadata": {},
     "output_type": "display_data"
    }
   ],
   "source": [
    "view = p3d.view(width=800, height=400, linked=True)\n",
    "view.addModel(tmpxyz, \"xyz\",)\n",
    "#view.addModel(xyz_ts, \"xyz\", viewer=(0,1))\n",
    "#view.addModel(xyz_gen, \"xyz\", viewer=(0,2))\n",
    "#view.addModel(xyz_p, \"xyz\", viewer=(0,3))\n",
    "view.setStyle({'stick':{}})\n",
    "view.show()\n"
   ]
  },
  {
   "cell_type": "code",
   "execution_count": 14,
   "metadata": {
    "pycharm": {
     "name": "#%%\n"
    }
   },
   "outputs": [
    {
     "ename": "NameError",
     "evalue": "name 'xyz_traj' is not defined",
     "output_type": "error",
     "traceback": [
      "\u001b[0;31m---------------------------------------------------------------------------\u001b[0m",
      "\u001b[0;31mNameError\u001b[0m                                 Traceback (most recent call last)",
      "\u001b[0;32m<ipython-input-14-068350357e3f>\u001b[0m in \u001b[0;36m<module>\u001b[0;34m\u001b[0m\n\u001b[1;32m      1\u001b[0m \u001b[0;31m# Animate optimization\u001b[0m\u001b[0;34m\u001b[0m\u001b[0;34m\u001b[0m\u001b[0;34m\u001b[0m\u001b[0m\n\u001b[1;32m      2\u001b[0m \u001b[0mviewer\u001b[0m \u001b[0;34m=\u001b[0m \u001b[0mp3d\u001b[0m\u001b[0;34m.\u001b[0m\u001b[0mview\u001b[0m\u001b[0;34m(\u001b[0m\u001b[0mwidth\u001b[0m\u001b[0;34m=\u001b[0m\u001b[0;36m1000\u001b[0m\u001b[0;34m,\u001b[0m \u001b[0mheight\u001b[0m\u001b[0;34m=\u001b[0m\u001b[0;36m500\u001b[0m\u001b[0;34m)\u001b[0m\u001b[0;34m\u001b[0m\u001b[0;34m\u001b[0m\u001b[0m\n\u001b[0;32m----> 3\u001b[0;31m \u001b[0mviewer\u001b[0m\u001b[0;34m.\u001b[0m\u001b[0maddModelsAsFrames\u001b[0m\u001b[0;34m(\u001b[0m\u001b[0mxyz_traj\u001b[0m\u001b[0;34m)\u001b[0m\u001b[0;34m\u001b[0m\u001b[0;34m\u001b[0m\u001b[0m\n\u001b[0m\u001b[1;32m      4\u001b[0m \u001b[0mviewer\u001b[0m\u001b[0;34m.\u001b[0m\u001b[0manimate\u001b[0m\u001b[0;34m(\u001b[0m\u001b[0;34m{\u001b[0m\u001b[0;34m\"loop\"\u001b[0m\u001b[0;34m:\u001b[0m \u001b[0;34m\"forward\"\u001b[0m\u001b[0;34m}\u001b[0m\u001b[0;34m)\u001b[0m\u001b[0;34m\u001b[0m\u001b[0;34m\u001b[0m\u001b[0m\n\u001b[1;32m      5\u001b[0m \u001b[0mviewer\u001b[0m\u001b[0;34m.\u001b[0m\u001b[0msetStyle\u001b[0m\u001b[0;34m(\u001b[0m\u001b[0;34m{\u001b[0m\u001b[0;34m\"stick\"\u001b[0m\u001b[0;34m:\u001b[0m \u001b[0;34m{\u001b[0m\u001b[0;34m}\u001b[0m\u001b[0;34m}\u001b[0m\u001b[0;34m)\u001b[0m\u001b[0;34m\u001b[0m\u001b[0;34m\u001b[0m\u001b[0m\n",
      "\u001b[0;31mNameError\u001b[0m: name 'xyz_traj' is not defined"
     ]
    }
   ],
   "source": [
    "# Animate optimization\n",
    "viewer = p3d.view(width=1000, height=500)\n",
    "viewer.addModelsAsFrames(xyz_traj)\n",
    "viewer.animate({\"loop\": \"forward\"})\n",
    "viewer.setStyle({\"stick\": {}})\n",
    "viewer.rotate(-60, \"x\")\n",
    "viewer.rotate(40, \"y\")\n",
    "viewer.show()"
   ]
  },
  {
   "cell_type": "code",
   "execution_count": 21,
   "metadata": {
    "pycharm": {
     "name": "#%%\n"
    }
   },
   "outputs": [
    {
     "ename": "NameError",
     "evalue": "name 'xyz_traj' is not defined",
     "output_type": "error",
     "traceback": [
      "\u001b[0;31m---------------------------------------------------------------------------\u001b[0m",
      "\u001b[0;31mNameError\u001b[0m                                 Traceback (most recent call last)",
      "\u001b[0;32m<ipython-input-21-a9e9104e450a>\u001b[0m in \u001b[0;36m<module>\u001b[0;34m\u001b[0m\n\u001b[1;32m      2\u001b[0m \u001b[0;34m\u001b[0m\u001b[0m\n\u001b[1;32m      3\u001b[0m \u001b[0mviewer\u001b[0m \u001b[0;34m=\u001b[0m \u001b[0mp3d\u001b[0m\u001b[0;34m.\u001b[0m\u001b[0mview\u001b[0m\u001b[0;34m(\u001b[0m\u001b[0mwidth\u001b[0m\u001b[0;34m=\u001b[0m\u001b[0;36m1000\u001b[0m\u001b[0;34m,\u001b[0m \u001b[0mheight\u001b[0m\u001b[0;34m=\u001b[0m\u001b[0;36m500\u001b[0m\u001b[0;34m)\u001b[0m\u001b[0;34m\u001b[0m\u001b[0;34m\u001b[0m\u001b[0m\n\u001b[0;32m----> 4\u001b[0;31m \u001b[0mviewer\u001b[0m\u001b[0;34m.\u001b[0m\u001b[0maddModelsAsFrames\u001b[0m\u001b[0;34m(\u001b[0m\u001b[0mxyz_traj\u001b[0m\u001b[0;34m)\u001b[0m\u001b[0;34m\u001b[0m\u001b[0;34m\u001b[0m\u001b[0m\n\u001b[0m\u001b[1;32m      5\u001b[0m \u001b[0mviewer\u001b[0m\u001b[0;34m.\u001b[0m\u001b[0manimate\u001b[0m\u001b[0;34m(\u001b[0m\u001b[0;34m{\u001b[0m\u001b[0;34m\"loop\"\u001b[0m\u001b[0;34m:\u001b[0m \u001b[0;34m\"forward\"\u001b[0m\u001b[0;34m}\u001b[0m\u001b[0;34m)\u001b[0m\u001b[0;34m\u001b[0m\u001b[0;34m\u001b[0m\u001b[0m\n\u001b[1;32m      6\u001b[0m \u001b[0mviewer\u001b[0m\u001b[0;34m.\u001b[0m\u001b[0msetStyle\u001b[0m\u001b[0;34m(\u001b[0m\u001b[0;34m{\u001b[0m\u001b[0;34m\"stick\"\u001b[0m\u001b[0;34m:\u001b[0m \u001b[0;34m{\u001b[0m\u001b[0;34m}\u001b[0m\u001b[0;34m}\u001b[0m\u001b[0;34m)\u001b[0m\u001b[0;34m\u001b[0m\u001b[0;34m\u001b[0m\u001b[0m\n",
      "\u001b[0;31mNameError\u001b[0m: name 'xyz_traj' is not defined"
     ]
    }
   ],
   "source": [
    "# Animate optimization\n",
    "\n",
    "viewer = p3d.view(width=1000, height=500)\n",
    "viewer.addModelsAsFrames(xyz_traj)\n",
    "viewer.animate({\"loop\": \"forward\"})\n",
    "viewer.setStyle({\"stick\": {}})\n",
    "viewer.rotate(-60, \"x\")\n",
    "viewer.rotate(40, \"y\")\n",
    "viewer.show()\n"
   ]
  },
  {
   "cell_type": "code",
   "execution_count": 20,
   "metadata": {
    "pycharm": {
     "name": "#%%\n"
    }
   },
   "outputs": [
    {
     "name": "stdout",
     "output_type": "stream",
     "text": [
      "An error occured.\n",
      "PermissionError: [Errno 13] Permission denied: '/appl/anaconda3/share/jupyter/lab/extensions'\n",
      "See the log file for details:  /tmp/jupyterlab-debug-nf5toou4.log\n"
     ]
    }
   ],
   "source": [
    "!jupyter labextension install jupyterlab_3dmol"
   ]
  },
  {
   "cell_type": "code",
   "execution_count": null,
   "metadata": {
    "pycharm": {
     "name": "#%%\n"
    }
   },
   "outputs": [],
   "source": []
  }
 ],
 "metadata": {
  "kernelspec": {
   "display_name": "geodiff",
   "language": "python",
   "name": "geodiff"
  },
  "language_info": {
   "codemirror_mode": {
    "name": "ipython",
    "version": 3
   },
   "file_extension": ".py",
   "mimetype": "text/x-python",
   "name": "python",
   "nbconvert_exporter": "python",
   "pygments_lexer": "ipython3",
   "version": "3.7.10"
  }
 },
 "nbformat": 4,
 "nbformat_minor": 5
}
